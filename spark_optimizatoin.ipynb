{
 "cells": [
  {
   "cell_type": "code",
   "execution_count": 1,
   "metadata": {},
   "outputs": [
    {
     "name": "stderr",
     "output_type": "stream",
     "text": [
      "24/09/25 18:43:00 WARN Utils: Your hostname, mayank resolves to a loopback address: 127.0.1.1; using 10.0.2.15 instead (on interface enp0s3)\n",
      "24/09/25 18:43:00 WARN Utils: Set SPARK_LOCAL_IP if you need to bind to another address\n"
     ]
    },
    {
     "name": "stdout",
     "output_type": "stream",
     "text": [
      ":: loading settings :: url = jar:file:/home/mayank/.local/lib/python3.10/site-packages/pyspark/jars/ivy-2.5.1.jar!/org/apache/ivy/core/settings/ivysettings.xml\n"
     ]
    },
    {
     "name": "stderr",
     "output_type": "stream",
     "text": [
      "Ivy Default Cache set to: /home/mayank/.ivy2/cache\n",
      "The jars for the packages stored in: /home/mayank/.ivy2/jars\n",
      "org.mongodb.spark#mongo-spark-connector_2.12 added as a dependency\n",
      ":: resolving dependencies :: org.apache.spark#spark-submit-parent-fa31dd79-2aae-45f4-a966-1f922ae47323;1.0\n",
      "\tconfs: [default]\n",
      "\tfound org.mongodb.spark#mongo-spark-connector_2.12;3.0.1 in central\n",
      "\tfound org.mongodb#mongodb-driver-sync;4.0.5 in central\n",
      "\tfound org.mongodb#bson;4.0.5 in central\n",
      "\tfound org.mongodb#mongodb-driver-core;4.0.5 in central\n",
      ":: resolution report :: resolve 546ms :: artifacts dl 11ms\n",
      "\t:: modules in use:\n",
      "\torg.mongodb#bson;4.0.5 from central in [default]\n",
      "\torg.mongodb#mongodb-driver-core;4.0.5 from central in [default]\n",
      "\torg.mongodb#mongodb-driver-sync;4.0.5 from central in [default]\n",
      "\torg.mongodb.spark#mongo-spark-connector_2.12;3.0.1 from central in [default]\n",
      "\t---------------------------------------------------------------------\n",
      "\t|                  |            modules            ||   artifacts   |\n",
      "\t|       conf       | number| search|dwnlded|evicted|| number|dwnlded|\n",
      "\t---------------------------------------------------------------------\n",
      "\t|      default     |   4   |   0   |   0   |   0   ||   4   |   0   |\n",
      "\t---------------------------------------------------------------------\n",
      ":: retrieving :: org.apache.spark#spark-submit-parent-fa31dd79-2aae-45f4-a966-1f922ae47323\n",
      "\tconfs: [default]\n",
      "\t0 artifacts copied, 4 already retrieved (0kB/5ms)\n",
      "24/09/25 18:43:02 WARN NativeCodeLoader: Unable to load native-hadoop library for your platform... using builtin-java classes where applicable\n",
      "Setting default log level to \"WARN\".\n",
      "To adjust logging level use sc.setLogLevel(newLevel). For SparkR, use setLogLevel(newLevel).\n",
      "24/09/25 18:43:04 WARN Utils: Service 'SparkUI' could not bind on port 4040. Attempting port 4041.\n",
      "24/09/25 18:43:04 WARN Utils: Service 'SparkUI' could not bind on port 4041. Attempting port 4042.\n",
      "24/09/25 18:43:04 WARN Utils: Service 'SparkUI' could not bind on port 4042. Attempting port 4043.\n",
      "                                                                                \r"
     ]
    }
   ],
   "source": [
    "import time\n",
    "from pyspark.sql import SparkSession\n",
    "from pyspark.sql import functions as F\n",
    "\n",
    "spark = SparkSession \\\n",
    "    .builder \\\n",
    "    .appName(\"UniDbMongoSpark\") \\\n",
    "    .config(\"spark.mongodb.input.uri\", \"mongodb://localhost:27017/university_db_new\") \\\n",
    "    .config(\"spark.mongodb.output.uri\", \"mongodb://localhost:27017/university_db_new\") \\\n",
    "    .config(\"spark.jars.packages\", \"org.mongodb.spark:mongo-spark-connector_2.12:3.0.1\") \\\n",
    "    .getOrCreate()\n",
    "\n",
    "spark.sparkContext.setLogLevel(\"FATAL\")\n",
    "\n",
    "students_df = spark.read.format(\"mongo\").option(\"uri\", \"mongodb://localhost:27017/university_db_new.students\").load()\n",
    "courses_df = spark.read.format(\"mongo\").option(\"uri\", \"mongodb://localhost:27017/university_db_new.courses\").load()\n",
    "\n",
    "departments_df = spark.read.format(\"mongo\").option(\"uri\", \"mongodb://localhost:27017/university_db_new.departments\").load()\n",
    "instructors_df = spark.read.format(\"mongo\").option(\"uri\", \"mongodb://localhost:27017/university_db_new.instructors\").load()\n",
    "\n",
    "repartition = True\n",
    "n_partitions = 24\n",
    "\n",
    "if repartition:\n",
    "    students_df = students_df.repartition(n_partitions, \"student_id\")\n",
    "    departments_df = departments_df.repartition(n_partitions, \"department_id\")\n",
    "    courses_df = courses_df.repartition(n_partitions, \"course_id\")\n",
    "    instructors_df = instructors_df.repartition(n_partitions, \"instructor_id\")\n",
    "\n",
    "    \n",
    "def measure_query(query_function):\n",
    "    start_time = time.time()\n",
    "    result_df = query_function()\n",
    "    duration = time.time() - start_time\n",
    "    print(f\"Execution Time: {duration:.4f} seconds\")\n",
    "    return result_df\n",
    "\n",
    "\n"
   ]
  },
  {
   "cell_type": "code",
   "execution_count": 2,
   "metadata": {},
   "outputs": [
    {
     "name": "stdout",
     "output_type": "stream",
     "text": [
      "\n",
      "Query 1: Students with Course ID 10\n",
      "Execution Time: 0.3370 seconds\n"
     ]
    },
    {
     "name": "stderr",
     "output_type": "stream",
     "text": [
      "                                                                                \r"
     ]
    },
    {
     "name": "stdout",
     "output_type": "stream",
     "text": [
      "+----------+----------+---------+\n",
      "|student_id|first_name|last_name|\n",
      "+----------+----------+---------+\n",
      "|       104|    Deanna|     Wolf|\n",
      "|       104|    Deanna|     Wolf|\n",
      "|       483|    Melvin|  Wallace|\n",
      "|       483|    Melvin|  Wallace|\n",
      "|       174|   Abigail|   Walker|\n",
      "|       174|   Abigail|   Walker|\n",
      "|       277| Alejandro|     Gill|\n",
      "|       277| Alejandro|     Gill|\n",
      "|       386|   Caitlin|     Hull|\n",
      "|       386|   Caitlin|     Hull|\n",
      "+----------+----------+---------+\n",
      "\n"
     ]
    }
   ],
   "source": [
    "# Query 1: Students enrolled in course_id 10\n",
    "def query_students_with_course_10():\n",
    "    exploded_courses = students_df.select(\"student_id\", \"first_name\", \"last_name\", F.explode(\"courses\").alias(\"course\"))\n",
    "    \n",
    "    return exploded_courses.filter(exploded_courses.course.course_id == 10) \\\n",
    "        .select(\"student_id\", \"first_name\", \"last_name\")\n",
    "\n",
    "print(\"\\nQuery 1: Students with Course ID 10\")\n",
    "students_with_course_10 = measure_query(query_students_with_course_10)\n",
    "students_with_course_10.show()\n"
   ]
  },
  {
   "cell_type": "code",
   "execution_count": 3,
   "metadata": {},
   "outputs": [
    {
     "name": "stdout",
     "output_type": "stream",
     "text": [
      "\n",
      "Query 2SS: Average Student Count per Course\n",
      "Execution Time: 0.2067 seconds\n",
      "+------------------+\n",
      "|      avg_students|\n",
      "+------------------+\n",
      "|3.3333333333333335|\n",
      "+------------------+\n",
      "\n"
     ]
    }
   ],
   "source": [
    "# Query 2: Average Student Count per Course\n",
    "def query_average_student_count_per_course():\n",
    "    return courses_df.select(\"course_id\", F.size(\"students\").alias(\"student_count\")) \\\n",
    "        .agg(F.avg(\"student_count\").alias(\"avg_students\")) \\\n",
    "        .select(\"avg_students\")\n",
    "\n",
    "print(\"\\nQuery 2SS: Average Student Count per Course\")\n",
    "average_student_count = measure_query(query_average_student_count_per_course)\n",
    "average_student_count.show()\n"
   ]
  },
  {
   "cell_type": "code",
   "execution_count": 4,
   "metadata": {},
   "outputs": [
    {
     "name": "stdout",
     "output_type": "stream",
     "text": [
      "\n",
      "Query 2: Courses by Department ID 3\n",
      "Execution Time: 0.0714 seconds\n",
      "+---------+--------------------+\n",
      "|course_id|         course_name|\n",
      "+---------+--------------------+\n",
      "|        3|            Someone.|\n",
      "|       27|                Run.|\n",
      "|       41|               Home.|\n",
      "|        3|            Someone.|\n",
      "|       27|                Run.|\n",
      "|       41|               Home.|\n",
      "|       71|War short since a...|\n",
      "|       84|Modern speak smal...|\n",
      "|       71|War short since a...|\n",
      "|       84|Modern speak smal...|\n",
      "|      124|       Seat tonight.|\n",
      "|      124|       Seat tonight.|\n",
      "|       30|      Person behind.|\n",
      "|       30|      Person behind.|\n",
      "|       36|          Sign kind.|\n",
      "|       36|          Sign kind.|\n",
      "|      139|Beautiful design ...|\n",
      "|      139|Beautiful design ...|\n",
      "|       13| Value fine subject.|\n",
      "|       13| Value fine subject.|\n",
      "+---------+--------------------+\n",
      "only showing top 20 rows\n",
      "\n"
     ]
    }
   ],
   "source": [
    "# Query 3: Courses in department_id 3\n",
    "def query_courses_by_department():\n",
    "    return courses_df.filter(courses_df.department_id == 3) \\\n",
    "        .select(\"course_id\", \"course_name\")\n",
    "\n",
    "print(\"\\nQuery 2: Courses by Department ID 3\")\n",
    "courses_by_department = measure_query(query_courses_by_department)\n",
    "courses_by_department.show()"
   ]
  },
  {
   "cell_type": "code",
   "execution_count": 5,
   "metadata": {},
   "outputs": [
    {
     "name": "stdout",
     "output_type": "stream",
     "text": [
      "\n",
      "Query 4: Total Students per Department\n",
      "Execution Time: 0.1833 seconds\n"
     ]
    },
    {
     "name": "stderr",
     "output_type": "stream",
     "text": [
      "[Stage 32:============================>                           (12 + 4) / 24]\r"
     ]
    },
    {
     "name": "stdout",
     "output_type": "stream",
     "text": [
      "+--------------------+--------------+\n",
      "|     department_name|total_students|\n",
      "+--------------------+--------------+\n",
      "|           Brown LLC|           232|\n",
      "|        Schwartz Inc|           172|\n",
      "|Aguilar, Taylor a...|           228|\n",
      "|        Campbell Ltd|           152|\n",
      "|       Munoz-Johnson|           240|\n",
      "|          Carter LLC|           168|\n",
      "|        Young-Obrien|           180|\n",
      "|     Clayton-Johnson|           212|\n",
      "|         Green Group|           224|\n",
      "|          Santos Ltd|           192|\n",
      "+--------------------+--------------+\n",
      "\n"
     ]
    },
    {
     "name": "stderr",
     "output_type": "stream",
     "text": [
      "                                                                                \r"
     ]
    }
   ],
   "source": [
    "# Query 4: Total Students per Department\n",
    "def query_total_students_per_department():\n",
    "    joined_df = students_df.join(departments_df, \"department_id\", \"left\")\n",
    "    \n",
    "    return joined_df.groupBy(\"department_name\") \\\n",
    "        .agg(F.count(\"*\").alias(\"total_students\")) \\\n",
    "        .select(\n",
    "            F.col(\"department_name\"), \n",
    "            \"total_students\"\n",
    "        )\n",
    "\n",
    "print(\"\\nQuery 4: Total Students per Department\")\n",
    "total_students_per_department = measure_query(query_total_students_per_department)\n",
    "total_students_per_department.show()\n"
   ]
  },
  {
   "cell_type": "code",
   "execution_count": 6,
   "metadata": {},
   "outputs": [
    {
     "name": "stdout",
     "output_type": "stream",
     "text": [
      "\n",
      "Query 5: Instructors with Course Count\n",
      "Execution Time: 0.1489 seconds\n"
     ]
    },
    {
     "name": "stderr",
     "output_type": "stream",
     "text": [
      "                                                                                \r"
     ]
    },
    {
     "name": "stdout",
     "output_type": "stream",
     "text": [
      "+-------------+----------+---------+\n",
      "|instructor_id|first_name|last_name|\n",
      "+-------------+----------+---------+\n",
      "|            2|    Edward|    Hurst|\n",
      "|            5|      Noah|Patterson|\n",
      "|            1|    Pamela|   Ashley|\n",
      "+-------------+----------+---------+\n",
      "\n"
     ]
    }
   ],
   "source": [
    "# Query 5: Instructors with Course Count\n",
    "def query_instructors_with_course_count():\n",
    "    instructor_courses_df = instructors_df.join(courses_df, \"instructor_id\", \"left\") \\\n",
    "        .filter((F.col(\"course_id\") >= 101) & (F.col(\"course_id\") <= 125)) \\\n",
    "        .groupBy(\"instructor_id\", \"first_name\", \"last_name\") \\\n",
    "        .agg(F.collect_list(\"course_id\").alias(\"course_count\"))  # Collect course IDs\n",
    "\n",
    "    return instructor_courses_df.filter(F.size(\"course_count\") < 25) \\\n",
    "        .select(\"instructor_id\", \"first_name\", \"last_name\")\n",
    "\n",
    "print(\"\\nQuery 5: Instructors with Course Count\")\n",
    "instructors_with_course_count = measure_query(query_instructors_with_course_count)\n",
    "instructors_with_course_count.show()"
   ]
  },
  {
   "cell_type": "code",
   "execution_count": 7,
   "metadata": {},
   "outputs": [
    {
     "name": "stdout",
     "output_type": "stream",
     "text": [
      "\n",
      "Query 1: Courses with Enrollment Information\n",
      "Execution Time: 0.0533 seconds\n",
      "+---------+--------------------+-----------+\n",
      "|course_id|         course_name|enrollments|\n",
      "+---------+--------------------+-----------+\n",
      "|      104|     State although.|          7|\n",
      "|      136|        Become even.|          7|\n",
      "|       93|Less dream image ...|          7|\n",
      "|      136|        Become even.|          7|\n",
      "|      135|Discussion interv...|          7|\n",
      "|       93|Less dream image ...|          7|\n",
      "|      104|     State although.|          7|\n",
      "|      135|Discussion interv...|          7|\n",
      "|      128|  Science bill line.|          6|\n",
      "|       28|         Why career.|          6|\n",
      "+---------+--------------------+-----------+\n",
      "\n"
     ]
    }
   ],
   "source": [
    "# Query 6: Courses with Enrollment Information\n",
    "def query_courses_with_enrollment():\n",
    "    \n",
    "    return courses_df.select(\n",
    "            \"course_id\", \n",
    "            \"course_name\", \n",
    "            F.size(\"students\").alias(\"enrollments\")  \n",
    "        ) \\\n",
    "        .orderBy(F.desc(\"enrollments\")) \\\n",
    "        .limit(10)\n",
    "\n",
    "print(\"\\nQuery 1: Courses with Enrollment Information\")\n",
    "courses_with_enrollment = measure_query(query_courses_with_enrollment)\n",
    "courses_with_enrollment.show()\n"
   ]
  }
 ],
 "metadata": {
  "kernelspec": {
   "display_name": "Python 3",
   "language": "python",
   "name": "python3"
  },
  "language_info": {
   "codemirror_mode": {
    "name": "ipython",
    "version": 3
   },
   "file_extension": ".py",
   "mimetype": "text/x-python",
   "name": "python",
   "nbconvert_exporter": "python",
   "pygments_lexer": "ipython3",
   "version": "3.10.12"
  }
 },
 "nbformat": 4,
 "nbformat_minor": 2
}
